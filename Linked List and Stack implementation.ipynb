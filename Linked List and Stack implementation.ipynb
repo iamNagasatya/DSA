{
 "cells": [
  {
   "cell_type": "markdown",
   "id": "10005423",
   "metadata": {},
   "source": [
    "## Doubly Linked List"
   ]
  },
  {
   "cell_type": "code",
   "execution_count": 2,
   "id": "b564ca3f",
   "metadata": {},
   "outputs": [],
   "source": [
    "class Node:\n",
    "    def __init__(self, data):\n",
    "        self.data = data\n",
    "        self.nextPtr = None\n",
    "        self.prevPtr = None\n",
    "        \n",
    "class LinkedList:\n",
    "    def __init__(self):\n",
    "        self.head = None\n",
    "        self.tail = None\n",
    "        \n",
    "    def __str__(self):\n",
    "        s = \"\"\n",
    "        ptr = self.head\n",
    "        while ptr:\n",
    "            s+=f\"{ptr.data} \"\n",
    "            ptr=ptr.nextPtr\n",
    "        return s\n",
    "    \n",
    "    def insertAtBegin(self, x):\n",
    "        new_node = Node(x)\n",
    "        if self.head is None:\n",
    "            self.head = new_node\n",
    "            self.tail = new_node\n",
    "        else: \n",
    "            new_node.nextPtr=self.head\n",
    "            firstNode = self.head\n",
    "            firstNode.prevPtr = new_node\n",
    "            self.head = new_node\n",
    "        \n",
    "    def insertAtEnd(self, x):\n",
    "        new_node = Node(x)\n",
    "        if self.tail is None:\n",
    "            self.head = new_node\n",
    "            self.tail = new_node\n",
    "        else:\n",
    "            cur = self.tail\n",
    "            new_node.prevPtr = cur\n",
    "            cur.nextPtr = new_node\n",
    "            self.tail = new_node\n",
    "        \n",
    "        \n",
    "    def deleteAtBegin(self):\n",
    "        ptr = self.head\n",
    "        nptr = ptr.nextPtr\n",
    "        if nptr:\n",
    "            nptr.prevPtr = None\n",
    "        self.head = nptr\n",
    "        \n",
    "        del ptr\n",
    "        \n",
    "    def deleteAtEnd(self):\n",
    "        ptr = self.tail\n",
    "        pptr = ptr.prevPtr\n",
    "        if pptr:\n",
    "            pptr.nextPtr = None\n",
    "            self.tail = pptr\n",
    "        else:\n",
    "            self.head = None\n",
    "            self.tail = None\n",
    "            \n",
    "        del ptr\n",
    "        \n",
    "        \n"
   ]
  },
  {
   "cell_type": "code",
   "execution_count": 19,
   "id": "579e8b46",
   "metadata": {},
   "outputs": [],
   "source": [
    "l = LinkedList()"
   ]
  },
  {
   "cell_type": "code",
   "execution_count": 20,
   "id": "5036f05f",
   "metadata": {},
   "outputs": [
    {
     "name": "stdout",
     "output_type": "stream",
     "text": [
      "20 30 \n"
     ]
    }
   ],
   "source": [
    "l.insertAtBegin(30)\n",
    "l.insertAtBegin(20)\n",
    "\n",
    "print(l)"
   ]
  },
  {
   "cell_type": "code",
   "execution_count": 21,
   "id": "aee20e56",
   "metadata": {},
   "outputs": [],
   "source": [
    "l.insertAtBegin(10)"
   ]
  },
  {
   "cell_type": "code",
   "execution_count": 22,
   "id": "9c8f46a2",
   "metadata": {},
   "outputs": [
    {
     "name": "stdout",
     "output_type": "stream",
     "text": [
      "10 20 30 \n"
     ]
    }
   ],
   "source": [
    "print(l)"
   ]
  },
  {
   "cell_type": "code",
   "execution_count": 23,
   "id": "e98db3fa",
   "metadata": {},
   "outputs": [
    {
     "name": "stdout",
     "output_type": "stream",
     "text": [
      "10 20 30 40 \n"
     ]
    }
   ],
   "source": [
    "l.insertAtEnd(40)\n",
    "print(l)"
   ]
  },
  {
   "cell_type": "code",
   "execution_count": 24,
   "id": "7d1a5659",
   "metadata": {},
   "outputs": [
    {
     "name": "stdout",
     "output_type": "stream",
     "text": [
      "20 30 40 \n"
     ]
    }
   ],
   "source": [
    "l.deleteAtBegin()\n",
    "print(l)"
   ]
  },
  {
   "cell_type": "code",
   "execution_count": 25,
   "id": "8e5af7d7",
   "metadata": {},
   "outputs": [],
   "source": [
    "l.insertAtBegin(10)"
   ]
  },
  {
   "cell_type": "code",
   "execution_count": 26,
   "id": "bbd9a67e",
   "metadata": {},
   "outputs": [
    {
     "name": "stdout",
     "output_type": "stream",
     "text": [
      "10 20 30 40 \n"
     ]
    }
   ],
   "source": [
    "print(l)"
   ]
  },
  {
   "cell_type": "code",
   "execution_count": 27,
   "id": "7dd02bd2",
   "metadata": {},
   "outputs": [
    {
     "name": "stdout",
     "output_type": "stream",
     "text": [
      "10 20 30 \n"
     ]
    }
   ],
   "source": [
    "l.deleteAtEnd()\n",
    "print(l)"
   ]
  },
  {
   "cell_type": "code",
   "execution_count": 28,
   "id": "dd6d1b87",
   "metadata": {},
   "outputs": [],
   "source": [
    "l.deleteAtEnd()"
   ]
  },
  {
   "cell_type": "code",
   "execution_count": 29,
   "id": "d35cde8c",
   "metadata": {},
   "outputs": [
    {
     "name": "stdout",
     "output_type": "stream",
     "text": [
      "10 20 \n"
     ]
    }
   ],
   "source": [
    "print(l)"
   ]
  },
  {
   "cell_type": "markdown",
   "id": "91011330",
   "metadata": {},
   "source": [
    "## Stack implementation using Doubly linked list"
   ]
  },
  {
   "cell_type": "code",
   "execution_count": 6,
   "id": "f21ed9af",
   "metadata": {},
   "outputs": [],
   "source": [
    "class Stack(LinkedList):\n",
    "    def __init__(self):\n",
    "        super().__init__()\n",
    "    def push(self, x):\n",
    "        self.insertAtEnd(x)\n",
    "    def pop(self, ):\n",
    "        self.deleteAtEnd()\n",
    "    def peek(self, ):\n",
    "        return self.tail.data\n",
    "    def empty(self, ):\n",
    "        return self.head == None\n",
    "    "
   ]
  },
  {
   "cell_type": "code",
   "execution_count": 7,
   "id": "d2a5799d",
   "metadata": {},
   "outputs": [],
   "source": [
    "stack = Stack()"
   ]
  },
  {
   "cell_type": "code",
   "execution_count": 8,
   "id": "e4da7541",
   "metadata": {},
   "outputs": [
    {
     "data": {
      "text/plain": [
       "True"
      ]
     },
     "execution_count": 8,
     "metadata": {},
     "output_type": "execute_result"
    }
   ],
   "source": [
    "stack.empty()"
   ]
  },
  {
   "cell_type": "code",
   "execution_count": 9,
   "id": "d11e17cb",
   "metadata": {},
   "outputs": [],
   "source": [
    "stack.push(10)"
   ]
  },
  {
   "cell_type": "code",
   "execution_count": 10,
   "id": "6b531dfc",
   "metadata": {},
   "outputs": [
    {
     "data": {
      "text/plain": [
       "10"
      ]
     },
     "execution_count": 10,
     "metadata": {},
     "output_type": "execute_result"
    }
   ],
   "source": [
    "stack.peek()"
   ]
  },
  {
   "cell_type": "code",
   "execution_count": 11,
   "id": "860823d5",
   "metadata": {},
   "outputs": [],
   "source": [
    "stack.push(20)"
   ]
  },
  {
   "cell_type": "code",
   "execution_count": 12,
   "id": "3bb32f7d",
   "metadata": {},
   "outputs": [
    {
     "data": {
      "text/plain": [
       "20"
      ]
     },
     "execution_count": 12,
     "metadata": {},
     "output_type": "execute_result"
    }
   ],
   "source": [
    "stack.peek()"
   ]
  },
  {
   "cell_type": "code",
   "execution_count": 13,
   "id": "02023fcc",
   "metadata": {},
   "outputs": [],
   "source": [
    "stack.pop()"
   ]
  },
  {
   "cell_type": "code",
   "execution_count": 14,
   "id": "5acfb8f4",
   "metadata": {},
   "outputs": [
    {
     "data": {
      "text/plain": [
       "10"
      ]
     },
     "execution_count": 14,
     "metadata": {},
     "output_type": "execute_result"
    }
   ],
   "source": [
    "stack.peek()"
   ]
  },
  {
   "cell_type": "code",
   "execution_count": 15,
   "id": "e1e7e901",
   "metadata": {},
   "outputs": [
    {
     "data": {
      "text/plain": [
       "False"
      ]
     },
     "execution_count": 15,
     "metadata": {},
     "output_type": "execute_result"
    }
   ],
   "source": [
    "stack.empty()"
   ]
  },
  {
   "cell_type": "code",
   "execution_count": 16,
   "id": "cbf822a7",
   "metadata": {},
   "outputs": [],
   "source": [
    "stack.pop()"
   ]
  },
  {
   "cell_type": "code",
   "execution_count": 17,
   "id": "b11cd35f",
   "metadata": {},
   "outputs": [
    {
     "data": {
      "text/plain": [
       "True"
      ]
     },
     "execution_count": 17,
     "metadata": {},
     "output_type": "execute_result"
    }
   ],
   "source": [
    "stack.empty()"
   ]
  }
 ],
 "metadata": {
  "kernelspec": {
   "display_name": "Python 3",
   "language": "python",
   "name": "python3"
  },
  "language_info": {
   "codemirror_mode": {
    "name": "ipython",
    "version": 3
   },
   "file_extension": ".py",
   "mimetype": "text/x-python",
   "name": "python",
   "nbconvert_exporter": "python",
   "pygments_lexer": "ipython3",
   "version": "3.9.5"
  }
 },
 "nbformat": 4,
 "nbformat_minor": 5
}
