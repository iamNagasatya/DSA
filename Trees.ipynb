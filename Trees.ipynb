{
 "cells": [
  {
   "cell_type": "code",
   "execution_count": 23,
   "id": "a273836b",
   "metadata": {},
   "outputs": [],
   "source": [
    "class Node:\n",
    "    def __init__(self, x):\n",
    "        self.val = x\n",
    "        self.left = None\n",
    "        self.right = None\n",
    "    def __str__(self):\n",
    "        return str(self.val)"
   ]
  },
  {
   "cell_type": "code",
   "execution_count": 40,
   "id": "3b2679cf",
   "metadata": {},
   "outputs": [],
   "source": [
    "root = Node(1)\n",
    "root.left = Node(2)\n",
    "root.right = None\n",
    "\n",
    "root.left.left = Node(4)\n",
    "root.left.right = Node(5)\n",
    "\n",
    "root.left.left.left = Node(6)\n",
    "root.left.right.right = Node(7)\n"
   ]
  },
  {
   "cell_type": "code",
   "execution_count": 42,
   "id": "7503091b",
   "metadata": {},
   "outputs": [
    {
     "name": "stdout",
     "output_type": "stream",
     "text": [
      "1 2 4 6 5 7 "
     ]
    }
   ],
   "source": [
    "def preorder_traversal(root):\n",
    "    if(root):\n",
    "        print(root.val, end=\" \")\n",
    "        preorder_traversal(root.left)\n",
    "        preorder_traversal(root.right)\n",
    "        \n",
    "preorder_traversal(root)"
   ]
  },
  {
   "cell_type": "code",
   "execution_count": 43,
   "id": "128bbb20",
   "metadata": {},
   "outputs": [
    {
     "name": "stdout",
     "output_type": "stream",
     "text": [
      "6 4 2 5 7 1 "
     ]
    }
   ],
   "source": [
    "def inorder_traversal(root):\n",
    "    if(root):\n",
    "        inorder_traversal(root.left)\n",
    "        print(root.val, end=\" \")\n",
    "        inorder_traversal(root.right)\n",
    "        \n",
    "inorder_traversal(root)"
   ]
  },
  {
   "cell_type": "code",
   "execution_count": 48,
   "id": "5ee526e3",
   "metadata": {},
   "outputs": [
    {
     "name": "stdout",
     "output_type": "stream",
     "text": [
      "6 4 7 5 2 1 "
     ]
    }
   ],
   "source": [
    "def postorder_traversal(root):\n",
    "    if(root):\n",
    "        postorder_traversal(root.left)\n",
    "        postorder_traversal(root.right)\n",
    "        print(root.val, end=\" \")\n",
    "        \n",
    "postorder_traversal(root)"
   ]
  },
  {
   "cell_type": "code",
   "execution_count": 49,
   "id": "d6c33283",
   "metadata": {},
   "outputs": [],
   "source": [
    "preorder  = [1, 2, 4, 6, 5, 7 ]\n",
    "\n",
    "inorder = [6, 4, 2, 5, 7, 1 ]"
   ]
  },
  {
   "cell_type": "code",
   "execution_count": 50,
   "id": "4f3c4343",
   "metadata": {},
   "outputs": [],
   "source": [
    "from collections import defaultdict"
   ]
  },
  {
   "cell_type": "code",
   "execution_count": 55,
   "id": "2d84cf91",
   "metadata": {},
   "outputs": [],
   "source": [
    "\n",
    "pre_idx = 0\n",
    "\n",
    "inorder_idx = defaultdict()\n",
    "\n",
    "for idx, val in enumerate(inorder):\n",
    "    inorder_idx[val] = idx\n",
    "\n",
    "def construct_binarytree(inorder_left, inorder_right):\n",
    "    global pre_idx\n",
    "    if(inorder_left>inorder_right): return None\n",
    "    \n",
    "    root = Node(preorder[pre_idx])\n",
    "    pre_idx+=1\n",
    "    root.left =  construct_binarytree(inorder_left, inorder_idx[root.val]-1)\n",
    "    root.right = construct_binarytree(inorder_idx[root.val]+1, inorder_right)\n",
    "    return root\n",
    "\n",
    "root = construct_binarytree(0, len(inorder)-1)"
   ]
  },
  {
   "cell_type": "code",
   "execution_count": 57,
   "id": "9460ee79",
   "metadata": {},
   "outputs": [
    {
     "name": "stdout",
     "output_type": "stream",
     "text": [
      "1 2 4 6 5 7 "
     ]
    }
   ],
   "source": [
    "preorder_traversal(root)"
   ]
  },
  {
   "cell_type": "code",
   "execution_count": 58,
   "id": "5d38aab8",
   "metadata": {},
   "outputs": [],
   "source": [
    "# Definition for a binary tree node.\n",
    "class TreeNode:\n",
    "    def __init__(self, val=0, left=None, right=None):\n",
    "        self.val = val\n",
    "        self.left = left\n",
    "        self.right = right"
   ]
  },
  {
   "cell_type": "code",
   "execution_count": 59,
   "id": "1edce218",
   "metadata": {},
   "outputs": [],
   "source": [
    "root = Node(3)\n",
    "root.left = Node(9)\n",
    "root.right = Node(20)\n",
    "root.right.left = Node(15)\n",
    "root.right.right = Node(7)"
   ]
  },
  {
   "cell_type": "code",
   "execution_count": 64,
   "id": "72fe30c5",
   "metadata": {},
   "outputs": [
    {
     "name": "stdout",
     "output_type": "stream",
     "text": [
      "24\n"
     ]
    }
   ],
   "source": [
    "\n",
    "def sum_of_left_leaves(root, is_left):\n",
    "    if(root.left==None and root.right==None and is_left):\n",
    "        return root.val\n",
    "    \n",
    "    ans=0\n",
    "    if(root.left): ans+=sum_of_left_leaves(root.left, True)\n",
    "    if(root.right): ans+=sum_of_left_leaves(root.right, False)\n",
    "    return ans\n",
    "\n",
    "    \n",
    "\n",
    "\n",
    "print(sum_of_left_leaves(root, False))"
   ]
  },
  {
   "cell_type": "code",
   "execution_count": null,
   "id": "2f836a0f",
   "metadata": {},
   "outputs": [],
   "source": []
  }
 ],
 "metadata": {
  "kernelspec": {
   "display_name": "Python 3",
   "language": "python",
   "name": "python3"
  },
  "language_info": {
   "codemirror_mode": {
    "name": "ipython",
    "version": 3
   },
   "file_extension": ".py",
   "mimetype": "text/x-python",
   "name": "python",
   "nbconvert_exporter": "python",
   "pygments_lexer": "ipython3",
   "version": "3.9.5"
  }
 },
 "nbformat": 4,
 "nbformat_minor": 5
}
