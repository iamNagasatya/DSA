{
 "cells": [
  {
   "cell_type": "code",
   "execution_count": 1,
   "id": "22579b9b",
   "metadata": {},
   "outputs": [],
   "source": [
    "graph = {\n",
    "    1 : [3, 4, 6],\n",
    "    2 : [3, 4, 5],\n",
    "    3 : [1, 2, 5],\n",
    "    4 : [1, 2, 6],\n",
    "    5 : [2, 3],\n",
    "    6 : [4, 1],\n",
    "}"
   ]
  },
  {
   "cell_type": "code",
   "execution_count": 2,
   "id": "9374fee2",
   "metadata": {},
   "outputs": [
    {
     "name": "stdout",
     "output_type": "stream",
     "text": [
      "5 2 3 1 4 6 "
     ]
    }
   ],
   "source": [
    "# DEPTH FIRST SEARCH\n",
    "\n",
    "def dfs(vertex, visited, graph):\n",
    "    if vertex not in visited:\n",
    "        visited.add(vertex)\n",
    "        print(vertex, end = \" \")\n",
    "        for adj in graph[vertex]:\n",
    "            dfs(adj, visited, graph)\n",
    "\n",
    "\n",
    "\n",
    "visited = set()\n",
    "\n",
    "dfs(5, visited, graph)"
   ]
  },
  {
   "cell_type": "code",
   "execution_count": 3,
   "id": "9a575cf0",
   "metadata": {},
   "outputs": [
    {
     "name": "stdout",
     "output_type": "stream",
     "text": [
      "5 2 3 4 1 6 "
     ]
    }
   ],
   "source": [
    "# BREADTH FIRST SEARCH\n",
    "\n",
    "from collections import deque\n",
    "\n",
    "\n",
    "def bfs(vertex, visited, graph):\n",
    "    visited.add(vertex)\n",
    "    q = deque()\n",
    "    q.append(vertex)\n",
    "    \n",
    "    while q:\n",
    "        node = q.popleft()\n",
    "        print(node, end = \" \")\n",
    "        for adj in graph[node]:\n",
    "            if adj not in visited:\n",
    "                visited.add(adj)\n",
    "                q.append(adj)\n",
    "\n",
    "\n",
    "visited = set()\n",
    "bfs(5, visited, graph)"
   ]
  },
  {
   "cell_type": "code",
   "execution_count": null,
   "id": "94c96bd9",
   "metadata": {},
   "outputs": [],
   "source": []
  }
 ],
 "metadata": {
  "kernelspec": {
   "display_name": "Python 3",
   "language": "python",
   "name": "python3"
  },
  "language_info": {
   "codemirror_mode": {
    "name": "ipython",
    "version": 3
   },
   "file_extension": ".py",
   "mimetype": "text/x-python",
   "name": "python",
   "nbconvert_exporter": "python",
   "pygments_lexer": "ipython3",
   "version": "3.9.5"
  }
 },
 "nbformat": 4,
 "nbformat_minor": 5
}
