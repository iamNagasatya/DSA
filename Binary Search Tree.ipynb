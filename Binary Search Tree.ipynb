{
 "cells": [
  {
   "cell_type": "code",
   "execution_count": 1,
   "id": "a0d3703c",
   "metadata": {},
   "outputs": [],
   "source": [
    " class TreeNode:\n",
    "        def __init__(self, data, left=None, right=None):\n",
    "            self.val = data\n",
    "            self.left = left\n",
    "            self.right = right"
   ]
  },
  {
   "cell_type": "code",
   "execution_count": 6,
   "id": "79397e71",
   "metadata": {},
   "outputs": [],
   "source": [
    "class BST:\n",
    "    def __init__(self):\n",
    "        self.root=None\n",
    "    \n",
    "    def insert(self, data):\n",
    "        node = TreeNode(data)\n",
    "        if self.root==None:\n",
    "            self.root = node\n",
    "        else:\n",
    "            ptr = self.root\n",
    "            while(True):\n",
    "                if(data<ptr.val):\n",
    "                    if ptr.left:\n",
    "                        ptr=ptr.left\n",
    "                    else:\n",
    "                        ptr.left = node\n",
    "                        break\n",
    "                else:\n",
    "                    if(ptr.right):\n",
    "                        ptr=ptr.right\n",
    "                    else:\n",
    "                        ptr.right = node\n",
    "                        break\n",
    "    \n",
    "    def construct(self, ar):\n",
    "        for x in ar:\n",
    "            self.insert(x)\n",
    "        \n",
    "    def inorder(self, root):\n",
    "        if(root):\n",
    "            self.inorder(root.left)\n",
    "            print(root.val, end=\" \")\n",
    "            self.inorder(root.right)\n",
    "            "
   ]
  },
  {
   "cell_type": "code",
   "execution_count": 7,
   "id": "c15cea5d",
   "metadata": {},
   "outputs": [
    {
     "name": "stdout",
     "output_type": "stream",
     "text": [
      "40 50 60 70 80 "
     ]
    }
   ],
   "source": [
    "bst = BST()\n",
    "\n",
    "ar = [50, 40, 70, 60, 80]\n",
    "\n",
    "bst.construct(ar)\n",
    "\n",
    "bst.inorder(bst.root)"
   ]
  },
  {
   "cell_type": "code",
   "execution_count": null,
   "id": "9e225363",
   "metadata": {},
   "outputs": [],
   "source": []
  }
 ],
 "metadata": {
  "kernelspec": {
   "display_name": "Python 3",
   "language": "python",
   "name": "python3"
  },
  "language_info": {
   "codemirror_mode": {
    "name": "ipython",
    "version": 3
   },
   "file_extension": ".py",
   "mimetype": "text/x-python",
   "name": "python",
   "nbconvert_exporter": "python",
   "pygments_lexer": "ipython3",
   "version": "3.9.5"
  }
 },
 "nbformat": 4,
 "nbformat_minor": 5
}
