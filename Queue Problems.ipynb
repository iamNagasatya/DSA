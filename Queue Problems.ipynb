{
 "cells": [
  {
   "cell_type": "code",
   "execution_count": 1,
   "id": "a3e91086",
   "metadata": {},
   "outputs": [],
   "source": [
    "from collections import deque"
   ]
  },
  {
   "cell_type": "markdown",
   "id": "d745de28",
   "metadata": {},
   "source": [
    "Queue Operations\n",
    "\n",
    "Enqueue\n",
    "Dequeue\n",
    "\n",
    "Enqueue can be acheived in dequeue using append and \n",
    "Dequeue can be acheived in dequeue using popleft"
   ]
  },
  {
   "cell_type": "code",
   "execution_count": 7,
   "id": "38854557",
   "metadata": {},
   "outputs": [
    {
     "name": "stdout",
     "output_type": "stream",
     "text": [
      "1\n",
      "10\n",
      "11\n",
      "100\n",
      "101\n",
      "110\n",
      "111\n",
      "1000\n",
      "1001\n",
      "1010\n"
     ]
    }
   ],
   "source": [
    "\n",
    "n = 10\n",
    "q = deque()\n",
    "\n",
    "q.append(\"1\")\n",
    "\n",
    "for _ in range(n):\n",
    "    front = q.popleft()\n",
    "    print(front)\n",
    "    q.append(front+\"0\")\n",
    "    q.append(front+\"1\")"
   ]
  },
  {
   "cell_type": "code",
   "execution_count": null,
   "id": "8b984646",
   "metadata": {},
   "outputs": [],
   "source": []
  }
 ],
 "metadata": {
  "kernelspec": {
   "display_name": "Python 3",
   "language": "python",
   "name": "python3"
  },
  "language_info": {
   "codemirror_mode": {
    "name": "ipython",
    "version": 3
   },
   "file_extension": ".py",
   "mimetype": "text/x-python",
   "name": "python",
   "nbconvert_exporter": "python",
   "pygments_lexer": "ipython3",
   "version": "3.9.5"
  }
 },
 "nbformat": 4,
 "nbformat_minor": 5
}
